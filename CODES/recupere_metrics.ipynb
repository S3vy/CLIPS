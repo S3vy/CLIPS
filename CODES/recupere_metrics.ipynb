{
 "cells": [
  {
   "cell_type": "code",
   "execution_count": 12,
   "metadata": {
    "vscode": {
     "languageId": "plaintext"
    }
   },
   "outputs": [],
   "source": [
    "import os\n",
    "import pandas\n"
   ]
  },
  {
   "cell_type": "code",
   "execution_count": 27,
   "metadata": {
    "vscode": {
     "languageId": "plaintext"
    }
   },
   "outputs": [],
   "source": [
    "imdir=\"/home/clips/Projet_CLIPS_DATASIM_2025/data/analyse.nsd/\"\n",
    "patient=os.listdir(imdir)\n",
    "\n",
    "for i in range(len(patient)):\n",
    "    patient[i]=os.path.join(imdir+patient[i],\"metriques.txt\")"
   ]
  },
  {
   "cell_type": "code",
   "execution_count": 49,
   "metadata": {},
   "outputs": [
    {
     "data": {
      "text/plain": [
       "['Patient : 51011104121005\\n',\n",
       " 'Tolerance : 5\\n',\n",
       " 'Lesionwise threshold : 50.0%\\n',\n",
       " 'Max SUV = 104.06993865966797\\n',\n",
       " 'Distance moyenne : 0.577 mm\\n',\n",
       " 'Distance de Hausdorff : 254.604 mm\\n',\n",
       " 'Dice : 0.901\\n',\n",
       " 'NSD à 5mm : 0.908\\n',\n",
       " 'BJI à 5mm : 0.87\\n',\n",
       " 'TMTV calculé par TMTV-NET (non seuillé): 1718.48ml\\n',\n",
       " 'TMTV calculé par TMTV-NET (seuillé): 1700.32 ml\\n',\n",
       " 'TMTV réel (seuillé à 4): 2067.93 ml \\n',\n",
       " 'TMTV FP non seuillé :20.37 ml\\n',\n",
       " 'TMTV FP seuillé : 2.2 ml\\n',\n",
       " 'TMTV FN : 369.82 ml   \\n',\n",
       " 'TMTV TP : 1698.12 ml\\n',\n",
       " 'Précision : 99.87 %\\n',\n",
       " 'Recall : 82.12 %\\n',\n",
       " 'Approach 1 :\\n',\n",
       " 'Nombre de lésions TP : 3 / 3 (100.0%)\\n',\n",
       " 'Nombre de lésions FN : 0 / 3 (0.0%)\\n',\n",
       " 'Nombre de prédictions FP : 2 / 5 (40.0%)\\n',\n",
       " 'Approach 2 :\\n',\n",
       " 'Nombre de lésions TP : 3 / 3 (100.0%)\\n',\n",
       " 'Nombre de lésions FN : 0 / 3 (0.0%)\\n',\n",
       " 'Nombre de prédictions FP : 2 / 5 (40.0%)\\n']"
      ]
     },
     "execution_count": 49,
     "metadata": {},
     "output_type": "execute_result"
    }
   ],
   "source": [
    "file = open(patient[0], 'r')\n",
    "Lines = file.readlines()\n",
    "Lines = [Lines[i] for i in range(len(Lines)) if (Lines[i]!=\"\\n\")]\n",
    "Lines.remove(\"    \")\n",
    "Lines"
   ]
  },
  {
   "cell_type": "code",
   "execution_count": null,
   "metadata": {},
   "outputs": [],
   "source": [
    "df = pd.DataFrame(columns=\n",
    "                  ['Patient',\n",
    "                   'Tolerance',\n",
    "                   'Lesionwise threshold',\n",
    "                   'Max SUV '\n",
    "                   'Distance moyenne', \n",
    "                   'Distance de Hausdorff',\n",
    "                   'Dice ', \n",
    "                   'NSD à 5mm', \n",
    "                   'BJI à 5mm',\n",
    "                   'TMTV calculé par TMTV-NET (non seuillé)', \n",
    "                   'TMTV calculé par TMTV-NET (seuillé)', \n",
    "                   'TMTV réel (seuillé à 4)',\n",
    "                   'TMTV FP non seuillé ',\n",
    "                   'TMTV FP seuillé',\n",
    "                   'TMTV FN',\n",
    "                   'TMTV TP',\n",
    "                   'Précision', \n",
    "                   'Recall',\n",
    "                   'lésions TP ', \n",
    "                   'lésions FN', \n",
    "                   'prédictions FP ',\n",
    "                   'prédictions FP ', \n",
    "                   'lésions FN', \n",
    "                   'prédictions FP'])\n",
    "\n",
    "for i,path in enumerate(patient): \n",
    "    file = open(path, 'r')\n",
    "    Lines = file.readlines()\n",
    "    Lines.remove('\\n')\n",
    "\n",
    "    list_values = [Lines[0][10:],\n",
    "                   Lines[0][10:],\n",
    "                   Lines[0][10:],\n",
    "                   Lines[0][10:],\n",
    "                   Lines[0][10:],\n",
    "                   Lines[0][10:],\n",
    "                   Lines[0][10:],\n",
    "                   Lines[0][10:],\n",
    "                   Lines[0][10:],\n",
    "                  ]\n",
    "    \n",
    "    df.loc[i] = \n",
    "\n",
    "count = 0\n",
    "# Strips the newline character\n",
    "for line in Lines:\n",
    "    count += 1\n",
    "    print(\"Line{}: {}\".format(count, line.strip()))\n",
    "df = pd.DataFrame(columns=['lib', 'qty1', 'qty2'])\n",
    ">>> for i in range(5):\n",
    ">>>     df.loc[i] = ['name' + str(i)] + list(randint(10, size=2))\n",
    "Patient : 11011101221014\n",
    "Tolerance : 5\n",
    "Lesionwise threshold : 50.0%\n",
    "\n",
    "Max SUV = 235.2880096435547\n",
    "Distance moyenne : 22.091 mm\n",
    "Distance de Hausdorff : 72.0 mm\n",
    "Dice : 0.536\n",
    "NSD à 5mm : 0.54\n",
    "BJI à 5mm : 0.51\n",
    "\n",
    "TMTV calculé par TMTV-NET (non seuillé): 212.22ml\n",
    "TMTV calculé par TMTV-NET (seuillé): 171.39 ml\n",
    "TMTV réel (seuillé à 4): 468.35 ml \n",
    "\n",
    "TMTV FP non seuillé :40.83 ml\n",
    "TMTV FP seuillé : 0.0 ml\n",
    "TMTV FN : 296.96 ml   \n",
    "TMTV TP : 171.39 ml\n",
    "Précision : 100.0 %\n",
    "Recall : 36.59 %\n",
    "\n",
    "Approach 1 :\n",
    "Nombre de lésions TP : 1 / 1 (100.0%)\n",
    "Nombre de lésions FN : 0 / 1 (0.0%)\n",
    "Nombre de prédictions FP : 0 / 1 (0.0%)\n",
    "\n",
    "Approach 2 :\n",
    "Nombre de lésions TP : 1 / 1 (100.0%)\n",
    "Nombre de lésions FN : 0 / 1 (0.0%)\n",
    "Nombre de prédictions FP : 0 / 1 (0.0%)\n",
    "    "
   ]
  },
  {
   "cell_type": "code",
   "execution_count": null,
   "metadata": {},
   "outputs": [],
   "source": []
  }
 ],
 "metadata": {
  "kernelspec": {
   "display_name": "Python 3 (ipykernel)",
   "language": "python",
   "name": "python3"
  },
  "language_info": {
   "codemirror_mode": {
    "name": "ipython",
    "version": 3
   },
   "file_extension": ".py",
   "mimetype": "text/x-python",
   "name": "python",
   "nbconvert_exporter": "python",
   "pygments_lexer": "ipython3",
   "version": "3.12.3"
  }
 },
 "nbformat": 4,
 "nbformat_minor": 4
}
